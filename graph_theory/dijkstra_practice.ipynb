{
 "cells": [
  {
   "cell_type": "markdown",
   "source": [
    "![alt text](graph_exercises.png \"Exercises\")\n"
   ],
   "metadata": {
    "collapsed": false
   },
   "id": "55b6ca23f64b248c"
  },
  {
   "cell_type": "code",
   "execution_count": 5,
   "outputs": [
    {
     "name": "stdout",
     "output_type": "stream",
     "text": [
      "d\n"
     ]
    }
   ],
   "source": [
    "from pprint import pprint\n",
    "\n",
    "# Build the graphs\n",
    "\n",
    "graph_a = {\n",
    "    \"start\" : { \"a\": 5, \"b\": 2},\n",
    "    \"a\": {\"c\": 4, \"d\": 2},\n",
    "    \"b\": {\"a\": 8, \"d\": 7},\n",
    "    \"c\": {\"d\": 6, \"finish\": 3},\n",
    "    \"d\": {\"finish\": 1},\n",
    "    \"finish\": None\n",
    "}\n",
    "\n",
    "graph_b = {\n",
    "    \"start\": {\"a\": 10},\n",
    "    \"a\": {\"c\": 20},\n",
    "    \"b\": {\"a\": 1, \"c\": 1},\n",
    "    \"c\": {\"finish\": 30},\n",
    "    \"finish\": None\n",
    "}\n",
    "\n",
    "graph_c = {\n",
    "    \"start\": {\"a\": 2, \"b\": 2},\n",
    "    \"a\": {\"finish\": 2, \"c\": 2},\n",
    "    \"b\": {\"a\": 2},\n",
    "    \"c\": {\"b\": -1, \"finish\": 2},\n",
    "    \"finish\": None\n",
    "}\n",
    "\n",
    "def find_initial_costs(graph: dict) -> dict:\n",
    "    costs = {}\n",
    "    for key in graph.keys():\n",
    "        costs[key] = float(\"inf\")\n",
    "    for start_keys in graph[\"start\"].keys():\n",
    "        costs[start_keys] = graph[\"start\"][start_keys]\n",
    "    return costs\n",
    "\n",
    "def find_lowest_cost_neighbor(node: dict) -> str:\n",
    "    neighbor = None\n",
    "    cost = float(\"inf\")\n",
    "    for n in node.keys():\n",
    "        if node[n] < cost:\n",
    "            neighbor = n\n",
    "            cost = node[n]\n",
    "    return neighbor\n",
    "\n",
    "print(find_lowest_cost_neighbor(graph_a[\"b\"]))"
   ],
   "metadata": {
    "collapsed": false,
    "ExecuteTime": {
     "end_time": "2024-01-10T05:05:48.568943200Z",
     "start_time": "2024-01-10T05:05:48.550942800Z"
    }
   },
   "id": "37bf83b5e3b6951a"
  },
  {
   "cell_type": "code",
   "execution_count": null,
   "outputs": [],
   "source": [],
   "metadata": {
    "collapsed": false
   },
   "id": "38ab1b9d506a10a0"
  }
 ],
 "metadata": {
  "kernelspec": {
   "display_name": "Python 3",
   "language": "python",
   "name": "python3"
  },
  "language_info": {
   "codemirror_mode": {
    "name": "ipython",
    "version": 2
   },
   "file_extension": ".py",
   "mimetype": "text/x-python",
   "name": "python",
   "nbconvert_exporter": "python",
   "pygments_lexer": "ipython2",
   "version": "2.7.6"
  }
 },
 "nbformat": 4,
 "nbformat_minor": 5
}
