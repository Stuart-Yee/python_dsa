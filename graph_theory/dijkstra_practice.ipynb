{
 "cells": [
  {
   "cell_type": "markdown",
   "source": [
    "![Exercises](graph_exercises.png \"Exercises\")\n"
   ],
   "metadata": {
    "collapsed": false
   },
   "id": "55b6ca23f64b248c"
  },
  {
   "cell_type": "markdown",
   "source": [
    "## Dijkstra's Algorithm\n",
    "\n",
    "1) Find the \"cheapest\" node\n",
    "2) Update the costs of the neighbors of this node\n",
    "3) Repeat until you've done this for every node in the graph\n",
    "4) Calculate final path"
   ],
   "metadata": {
    "collapsed": false
   },
   "id": "5f2701d8870ec529"
  },
  {
   "cell_type": "code",
   "execution_count": 50,
   "outputs": [],
   "source": [
    "from pprint import pprint\n",
    "\n",
    "# Build the graphs\n",
    "\n",
    "graph_a = {\n",
    "    \"start\" : { \"a\": 5, \"b\": 2},\n",
    "    \"a\": {\"c\": 4, \"d\": 2},\n",
    "    \"b\": {\"a\": 8, \"d\": 7},\n",
    "    \"c\": {\"d\": 6, \"finish\": 3},\n",
    "    \"d\": {\"finish\": 1},\n",
    "    \"finish\": None\n",
    "}\n",
    "\n",
    "graph_b = {\n",
    "    \"start\": {\"a\": 10},\n",
    "    \"a\": {\"c\": 20},\n",
    "    \"b\": {\"a\": 1},\n",
    "    \"c\": {\"b\": 1, \"finish\": 30},\n",
    "    \"finish\": None\n",
    "}\n",
    "\n",
    "graph_c = {\n",
    "    \"start\": {\"a\": 2, \"b\": 2},\n",
    "    \"a\": {\"finish\": 2, \"c\": 2},\n",
    "    \"b\": {\"a\": 2},\n",
    "    \"c\": {\"b\": -1, \"finish\": 2},\n",
    "    \"finish\": None\n",
    "}"
   ],
   "metadata": {
    "collapsed": false,
    "ExecuteTime": {
     "end_time": "2024-01-12T05:35:20.266095Z",
     "start_time": "2024-01-12T05:35:20.249097900Z"
    }
   },
   "id": "37bf83b5e3b6951a"
  },
  {
   "cell_type": "code",
   "execution_count": 51,
   "outputs": [
    {
     "name": "stdout",
     "output_type": "stream",
     "text": [
      "a\n"
     ]
    }
   ],
   "source": [
    "# \"helper\" functions\n",
    "\n",
    "def find_initial_costs(graph: dict) -> dict:\n",
    "    costs = {}\n",
    "    for key in graph.keys():\n",
    "        costs[key] = float(\"inf\")\n",
    "    for start_keys in graph[\"start\"].keys():\n",
    "        costs[start_keys] = graph[\"start\"][start_keys]\n",
    "    return costs\n",
    "\n",
    "def find_lowest_cost_neighbor(node: dict) -> str:\n",
    "    neighbor = None\n",
    "    cost = float(\"inf\")\n",
    "    for n in node.keys():\n",
    "        if node[n] < cost:\n",
    "            neighbor = n\n",
    "            cost = node[n]\n",
    "    return neighbor\n",
    "\n",
    "def find_starting_parents(graph: dict) -> dict:\n",
    "    parents = {\"finish\": None}\n",
    "    for node in graph[\"start\"].keys():\n",
    "        parents[node] = \"start\"\n",
    "    return parents\n",
    "    \n",
    "\n",
    "def get_next_node(graph: dict, processed: list, costs: dict) -> str:\n",
    "    return_node = None\n",
    "    cost = float(\"inf\")\n",
    "    for node in graph.keys():\n",
    "        if node not in processed:\n",
    "            if costs[node] < cost:\n",
    "                return_node = node\n",
    "                cost = costs[node]\n",
    "    return return_node\n",
    "\n",
    "next_node = get_next_node(graph_a, [\"b\"], find_initial_costs(graph_a))\n",
    "print(next_node)"
   ],
   "metadata": {
    "collapsed": false,
    "ExecuteTime": {
     "end_time": "2024-01-12T05:35:23.339412Z",
     "start_time": "2024-01-12T05:35:23.325358900Z"
    }
   },
   "id": "38ab1b9d506a10a0"
  },
  {
   "cell_type": "code",
   "execution_count": 52,
   "outputs": [],
   "source": [
    "def dijkstra_find_path(graph: dict) -> dict:\n",
    "    costs = find_initial_costs(graph)\n",
    "    processed = [] # Only finding costs for a given node's neighbors once\n",
    "    parents = find_starting_parents(graph)\n",
    "    next_node = get_next_node(graph, processed, costs)\n",
    "    while next_node is not None:\n",
    "        own_cost = costs[next_node]\n",
    "        if graph[next_node] is None:\n",
    "            processed.append(next_node)\n",
    "            next_node = get_next_node(graph, processed, costs)\n",
    "            continue\n",
    "        for neighbor in graph[next_node].keys():\n",
    "            if own_cost + graph[next_node][neighbor] < costs[neighbor]:\n",
    "                costs[neighbor] = own_cost + graph[next_node][neighbor]\n",
    "                parents[neighbor] = next_node   \n",
    "        \n",
    "        processed.append(next_node)\n",
    "        next_node = get_next_node(graph, processed, costs)\n",
    "    parent = parents[\"finish\"]\n",
    "    path = [parent, \"finish\"]\n",
    "    while parent:\n",
    "        path.insert(0, parents[parent])\n",
    "        if parents[parent] in parents.keys():\n",
    "            parent = parents[parent]\n",
    "        else:\n",
    "            parent = None\n",
    "    return {\n",
    "        \"path\": path,\n",
    "        \"cost\": costs[\"finish\"]\n",
    "    }            "
   ],
   "metadata": {
    "collapsed": false,
    "ExecuteTime": {
     "end_time": "2024-01-12T05:35:25.154386500Z",
     "start_time": "2024-01-12T05:35:25.139545900Z"
    }
   },
   "id": "b6d47414abf69317"
  },
  {
   "cell_type": "code",
   "execution_count": 53,
   "outputs": [
    {
     "name": "stdout",
     "output_type": "stream",
     "text": [
      "{'path': ['start', 'a', 'd', 'finish'], 'cost': 8}\n",
      "************************************************************\n",
      "{'path': ['start', 'a', 'c', 'finish'], 'cost': 60}\n",
      "************************************************************\n",
      "{'path': ['start', 'a', 'finish'], 'cost': 4}\n"
     ]
    }
   ],
   "source": [
    "# test\n",
    "a_final = dijkstra_find_path(graph_a)\n",
    "b_final = dijkstra_find_path(graph_b)\n",
    "c_final = dijkstra_find_path(graph_c)\n",
    "\n",
    "buffer = 60\n",
    "\n",
    "print(a_final)\n",
    "print(\"*\"*buffer)\n",
    "print(b_final)\n",
    "print(\"*\"*buffer)\n",
    "print(c_final)"
   ],
   "metadata": {
    "collapsed": false,
    "ExecuteTime": {
     "end_time": "2024-01-12T05:35:29.116101700Z",
     "start_time": "2024-01-12T05:35:29.100912Z"
    }
   },
   "id": "e3639822954f47bb"
  },
  {
   "cell_type": "markdown",
   "source": [
    "![Solutions](graph_exercises_solutions.png \"Solutions\")"
   ],
   "metadata": {
    "collapsed": false
   },
   "id": "66d6090fba5bc65"
  }
 ],
 "metadata": {
  "kernelspec": {
   "display_name": "Python 3",
   "language": "python",
   "name": "python3"
  },
  "language_info": {
   "codemirror_mode": {
    "name": "ipython",
    "version": 2
   },
   "file_extension": ".py",
   "mimetype": "text/x-python",
   "name": "python",
   "nbconvert_exporter": "python",
   "pygments_lexer": "ipython2",
   "version": "2.7.6"
  }
 },
 "nbformat": 4,
 "nbformat_minor": 5
}
